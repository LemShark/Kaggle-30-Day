{
 "cells": [
  {
   "cell_type": "code",
   "execution_count": null,
   "metadata": {},
   "outputs": [],
   "source": [
    "import numpy as np \n",
    "import pandas as pd \n",
    "import matplotlib.pyplot as plt\n",
    "import seaborn as sns\n",
    "from sklearn.preprocessing import OrdinalEncoder, MinMaxScaler\n",
    "from xgboost import XGBRegressor\n",
    "import random\n",
    "from sklearn.model_selection import KFold\n",
    "from sklearn.metrics import mean_squared_error\n"
   ]
  },
  {
   "cell_type": "markdown",
   "metadata": {},
   "source": [
    "# Data import"
   ]
  },
  {
   "cell_type": "code",
   "execution_count": null,
   "metadata": {},
   "outputs": [],
   "source": [
    "train = pd.read_csv(\"train.csv\")\n",
    "test = pd.read_csv(\"test.csv\")\n"
   ]
  },
  {
   "cell_type": "markdown",
   "metadata": {},
   "source": [
    "# EDA"
   ]
  },
  {
   "cell_type": "code",
   "execution_count": null,
   "metadata": {},
   "outputs": [],
   "source": [
    "test.info(memory_usage=\"deep\")"
   ]
  },
  {
   "cell_type": "code",
   "execution_count": null,
   "metadata": {},
   "outputs": [],
   "source": [
    "train.head()"
   ]
  },
  {
   "cell_type": "code",
   "execution_count": null,
   "metadata": {},
   "outputs": [],
   "source": [
    "train.describe()"
   ]
  },
  {
   "cell_type": "code",
   "execution_count": null,
   "metadata": {},
   "outputs": [],
   "source": [
    "# Checking if there are missing values in the datasets\n",
    "train.isna().sum().sum(), test.isna().sum().sum()"
   ]
  },
  {
   "cell_type": "code",
   "execution_count": null,
   "metadata": {},
   "outputs": [],
   "source": [
    "fig, ax = plt.subplots(figsize=(7, 7))\n",
    "pie = ax.pie([len(train), len(test)],\n",
    "             labels=[\"Train dataset\", \"Test dataset\"],\n",
    "             colors=[\"yellow\", \"green\"],\n",
    "             textprops={\"fontsize\": 15},\n",
    "             autopct='%1.1f%%')\n",
    "ax.axis(\"equal\")\n",
    "ax.set_title(\"Dataset length comparison\", fontsize=16)\n",
    "fig.set_facecolor('white')\n",
    "plt.show();"
   ]
  },
  {
   "cell_type": "code",
   "execution_count": null,
   "metadata": {},
   "outputs": [],
   "source": [
    "# Checking target distribution\n",
    "\n",
    "fig, ax = plt.subplots(figsize=(16, 8))\n",
    "\n",
    "bars = ax.hist(train[\"target\"],\n",
    "               bins=100,\n",
    "               color=\"palevioletred\",\n",
    "               edgecolor=\"black\")\n",
    "ax.set_title(\"Target distribution\", fontsize=20, pad=15)\n",
    "ax.set_ylabel(\"Amount of values\", fontsize=14, labelpad=15)\n",
    "ax.set_xlabel(\"Target value\", fontsize=14, labelpad=10)\n",
    "ax.margins(0.025, 0.12)\n",
    "ax.grid(axis=\"y\")\n",
    "\n",
    "plt.show();"
   ]
  },
  {
   "cell_type": "code",
   "execution_count": null,
   "metadata": {},
   "outputs": [],
   "source": [
    "# Lists of categorical and numerical feature columns\n",
    "cat_features = [\"cat\" + str(i) for i in range(10)]\n",
    "num_features = [\"cont\" + str(i) for i in range(14)]"
   ]
  },
  {
   "cell_type": "code",
   "execution_count": null,
   "metadata": {},
   "outputs": [],
   "source": [
    "# Combined dataframe containing numerical features only\n",
    "df = pd.concat([train[num_features], test[num_features]], axis=0)\n",
    "columns = df.columns.values\n",
    "\n",
    "# Calculating required amount of rows to display all feature plots\n",
    "cols = 3\n",
    "rows = len(columns) // cols + 1\n",
    "\n",
    "fig, axs = plt.subplots(ncols=cols, nrows=rows, figsize=(16,20), sharex=False)\n",
    "\n",
    "# Adding some distance between plots\n",
    "plt.subplots_adjust(hspace = 0.3)\n",
    "\n",
    "# Plots counter\n",
    "i=0\n",
    "for r in np.arange(0, rows, 1):\n",
    "    for c in np.arange(0, cols, 1):\n",
    "        if i >= len(columns): # If there is no more data columns to make plots from\n",
    "            axs[r, c].set_visible(False) # Hiding axes so there will be clean background\n",
    "        else:\n",
    "            # Train data histogram\n",
    "            hist1 = axs[r, c].hist(train[columns[i]].values,\n",
    "                                   range=(df[columns[i]].min(),\n",
    "                                          df[columns[i]].max()),\n",
    "                                   bins=40,\n",
    "                                   color=\"deepskyblue\",\n",
    "                                   edgecolor=\"black\",\n",
    "                                   alpha=0.7,\n",
    "                                   label=\"Train Dataset\")\n",
    "            # Test data histogram\n",
    "            hist2 = axs[r, c].hist(test[columns[i]].values,\n",
    "                                   range=(df[columns[i]].min(),\n",
    "                                          df[columns[i]].max()),\n",
    "                                   bins=40,\n",
    "                                   color=\"palevioletred\",\n",
    "                                   edgecolor=\"black\",\n",
    "                                   alpha=0.7,\n",
    "                                   label=\"Test Dataset\")\n",
    "            axs[r, c].set_title(columns[i], fontsize=14, pad=5)\n",
    "            axs[r, c].tick_params(axis=\"y\", labelsize=13)\n",
    "            axs[r, c].tick_params(axis=\"x\", labelsize=13)\n",
    "            axs[r, c].grid(axis=\"y\")\n",
    "            axs[r, c].legend(fontsize=13)\n",
    "                                  \n",
    "        i+=1\n",
    "# plt.suptitle(\"Numerical feature values distribution in both datasets\", y=0.99)\n",
    "plt.show();"
   ]
  },
  {
   "cell_type": "code",
   "execution_count": null,
   "metadata": {},
   "outputs": [],
   "source": [
    "#Check if the datasets have different amount of categories in categorical features.\n",
    "bars_pos = np.arange(len(cat_features))\n",
    "\n",
    "width=0.3\n",
    "fig, ax = plt.subplots(figsize=(14, 6))\n",
    "# Making two bar objects. One is on the left from bar position and the other one is on the right\n",
    "bars1 = ax.bar(bars_pos-width/2,\n",
    "               train[cat_features].nunique().values,\n",
    "               width=width,\n",
    "               color=\"darkorange\", edgecolor=\"black\")\n",
    "bars2 = ax.bar(bars_pos+width/2,\n",
    "               test[cat_features].nunique().values,\n",
    "               width=width,\n",
    "               color=\"steelblue\", edgecolor=\"black\")\n",
    "ax.set_title(\"Amount of values in categorical features\", fontsize=20, pad=15)\n",
    "ax.set_xlabel(\"Categorical feature\", fontsize=15, labelpad=15)\n",
    "ax.set_ylabel(\"Amount of values\", fontsize=15, labelpad=15)\n",
    "ax.set_xticks(bars_pos)\n",
    "ax.set_xticklabels(cat_features, fontsize=12)\n",
    "ax.tick_params(axis=\"y\", labelsize=12)\n",
    "ax.grid(axis=\"y\")\n",
    "plt.margins(0.01, 0.05)"
   ]
  },
  {
   "cell_type": "code",
   "execution_count": null,
   "metadata": {},
   "outputs": [],
   "source": [
    "#Correlation map\n",
    "df = train.drop(\"id\", axis=1)\n",
    "\n",
    "# Encoding categorical features with OrdinalEncoder\n",
    "for col in cat_features:\n",
    "    encoder = OrdinalEncoder()\n",
    "    df[col] = encoder.fit_transform(np.array(df[col]).reshape(-1, 1))\n",
    "\n",
    "# Calculatin correlation values\n",
    "df = df.corr().round(2)\n",
    "\n",
    "# Mask to hide upper-right part of plot as it is a duplicate\n",
    "mask = np.zeros_like(df)\n",
    "mask[np.triu_indices_from(mask)] = True\n",
    "\n",
    "# Making a plot\n",
    "plt.figure(figsize=(14,14))\n",
    "ax = sns.heatmap(df, annot=True, mask=mask, cmap=\"RdBu\", annot_kws={\"weight\": \"normal\", \"fontsize\":9})\n",
    "ax.set_title(\"Feature correlation heatmap\", fontsize=17)\n",
    "plt.setp(ax.get_xticklabels(), rotation=90, ha=\"right\",\n",
    "         rotation_mode=\"anchor\", weight=\"normal\")\n",
    "plt.setp(ax.get_yticklabels(), weight=\"normal\",\n",
    "         rotation_mode=\"anchor\", rotation=0, ha=\"right\")\n",
    "plt.show();"
   ]
  },
  {
   "cell_type": "code",
   "execution_count": null,
   "metadata": {},
   "outputs": [],
   "source": []
  },
  {
   "cell_type": "code",
   "execution_count": null,
   "metadata": {},
   "outputs": [],
   "source": []
  }
 ],
 "metadata": {
  "kernelspec": {
   "display_name": "Python 3",
   "language": "python",
   "name": "python3"
  },
  "language_info": {
   "codemirror_mode": {
    "name": "ipython",
    "version": 3
   },
   "file_extension": ".py",
   "mimetype": "text/x-python",
   "name": "python",
   "nbconvert_exporter": "python",
   "pygments_lexer": "ipython3",
   "version": "3.7.1"
  }
 },
 "nbformat": 4,
 "nbformat_minor": 2
}
